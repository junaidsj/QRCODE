{
 "cells": [
  {
   "cell_type": "code",
   "execution_count": 20,
   "id": "927d5522-3edf-4bba-9bbd-85fac047c654",
   "metadata": {},
   "outputs": [
    {
     "name": "stdout",
     "output_type": "stream",
     "text": [
      "QR Code saved as www_instagram_com_QR.png\n"
     ]
    }
   ],
   "source": [
    "import qrcode\n",
    "from PIL import Image\n",
    "import os\n",
    "from urllib.parse import urlparse\n",
    "\n",
    "# Function to validate and clean filename\n",
    "def url_to_filename(url):\n",
    "    parsed = urlparse(url)\n",
    "    domain = parsed.netloc.replace('.', '_')\n",
    "    return f\"{domain}_QR.png\"\n",
    "\n",
    "# Data to encode\n",
    "data = \"https://www.instagram.com/_junaid_.21/?__pwa=1\"\n",
    "\n",
    "# Create QR Code\n",
    "qr = qrcode.QRCode(\n",
    "    version=2,\n",
    "    error_correction=qrcode.constants.ERROR_CORRECT_H,  # Higher error correction allows for logos\n",
    "    box_size=10,\n",
    "    border=4,\n",
    ")\n",
    "\n",
    "qr.add_data(data)\n",
    "qr.make(fit=True)\n",
    "\n",
    "# Generate image with custom colors\n",
    "img = qr.make_image(fill_color=\"darkblue\", back_color=\"white\")\n",
    "\n",
    "# Optional: Add a logo in the center\n",
    "def add_logo(qr_img, logo_path):\n",
    "    logo_size = 60\n",
    "    logo = Image.open(logo_path)\n",
    "    logo = logo.resize((logo_size, logo_size))\n",
    "    \n",
    "    pos = (\n",
    "        (qr_img.size[0] - logo_size) // 2,\n",
    "        (qr_img.size[1] - logo_size) // 2\n",
    "    )\n",
    "    qr_img.paste(logo, pos, mask=logo.convert(\"RGBA\"))\n",
    "    return qr_img\n",
    "\n",
    "# Add logo if exists\n",
    "logo_path = \"logo.png\"  # Place your logo file in the same folder\n",
    "if os.path.exists(logo_path):\n",
    "    img = add_logo(img, logo_path)\n",
    "\n",
    "# Save the QR code\n",
    "filename = url_to_filename(data)\n",
    "img.save(filename)\n",
    "\n",
    "print(f\"QR Code saved as {filename}\")\n",
    "img.show()  # Open the image after saving\n"
   ]
  },
  {
   "cell_type": "code",
   "execution_count": null,
   "id": "0ad750c7-3c0a-412d-8875-52c122be6fe5",
   "metadata": {},
   "outputs": [],
   "source": []
  }
 ],
 "metadata": {
  "kernelspec": {
   "display_name": "Python 3 (ipykernel)",
   "language": "python",
   "name": "python3"
  },
  "language_info": {
   "codemirror_mode": {
    "name": "ipython",
    "version": 3
   },
   "file_extension": ".py",
   "mimetype": "text/x-python",
   "name": "python",
   "nbconvert_exporter": "python",
   "pygments_lexer": "ipython3",
   "version": "3.12.7"
  }
 },
 "nbformat": 4,
 "nbformat_minor": 5
}
